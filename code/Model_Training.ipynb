{
  "cells": [
    {
      "cell_type": "markdown",
      "metadata": {
        "id": "7DNOExcbKKCh"
      },
      "source": [
        "## **🔹 Checking GPU Availability in Google Colab**\n",
        "\n",
        "Before running heavy computations, it's essential to verify whether a **GPU** is available for acceleration. The following code checks:\n",
        "\n",
        "- If a **GPU is available** (`True` or `False`).\n",
        "- The **name of the GPU** (if one is detected).\n",
        "\n"
      ]
    },
    {
      "cell_type": "code",
      "execution_count": null,
      "metadata": {
        "colab": {
          "base_uri": "https://localhost:8080/"
        },
        "id": "Gk606uD-Fzw2",
        "outputId": "2e6deadf-2674-47da-a29d-740762573a6f"
      },
      "outputs": [
        {
          "name": "stdout",
          "output_type": "stream",
          "text": [
            "GPU Available: True\n",
            "GPU Name: Tesla T4\n"
          ]
        }
      ],
      "source": [
        "import torch\n",
        "print(\"GPU Available:\", torch.cuda.is_available())\n",
        "print(\"GPU Name:\", torch.cuda.get_device_name(0) if torch.cuda.is_available() else \"No GPU\")\n"
      ]
    },
    {
      "cell_type": "code",
      "execution_count": null,
      "metadata": {
        "colab": {
          "base_uri": "https://localhost:8080/"
        },
        "id": "UnpBgsthHB3Q",
        "outputId": "a9206d08-a0a3-4382-8762-cdb609b746ce"
      },
      "outputs": [
        {
          "name": "stdout",
          "output_type": "stream",
          "text": [
            "Requirement already satisfied: imbalanced-learn in /usr/local/lib/python3.11/dist-packages (0.13.0)\n",
            "Requirement already satisfied: xgboost in /usr/local/lib/python3.11/dist-packages (2.1.4)\n",
            "Requirement already satisfied: numpy<3,>=1.24.3 in /usr/local/lib/python3.11/dist-packages (from imbalanced-learn) (2.0.2)\n",
            "Requirement already satisfied: scipy<2,>=1.10.1 in /usr/local/lib/python3.11/dist-packages (from imbalanced-learn) (1.14.1)\n",
            "Requirement already satisfied: scikit-learn<2,>=1.3.2 in /usr/local/lib/python3.11/dist-packages (from imbalanced-learn) (1.6.1)\n",
            "Requirement already satisfied: sklearn-compat<1,>=0.1 in /usr/local/lib/python3.11/dist-packages (from imbalanced-learn) (0.1.3)\n",
            "Requirement already satisfied: joblib<2,>=1.1.1 in /usr/local/lib/python3.11/dist-packages (from imbalanced-learn) (1.4.2)\n",
            "Requirement already satisfied: threadpoolctl<4,>=2.0.0 in /usr/local/lib/python3.11/dist-packages (from imbalanced-learn) (3.6.0)\n",
            "Requirement already satisfied: nvidia-nccl-cu12 in /usr/local/lib/python3.11/dist-packages (from xgboost) (2.21.5)\n"
          ]
        }
      ],
      "source": [
        "!pip install imbalanced-learn xgboost\n",
        "!pip install -q xgboost\n",
        "!pip install -q imbalanced-learn seaborn joblib"
      ]
    },
    {
      "cell_type": "code",
      "execution_count": null,
      "metadata": {
        "id": "M_rZCFL6HLBZ"
      },
      "outputs": [],
      "source": [
        "import os\n",
        "import joblib\n",
        "import pandas as pd\n",
        "import numpy as np\n",
        "import matplotlib.pyplot as plt\n",
        "import seaborn as sns\n",
        "\n",
        "from sklearn.model_selection import (\n",
        "    train_test_split, StratifiedKFold, cross_val_score, GridSearchCV\n",
        ")\n",
        "from sklearn.linear_model import LogisticRegression\n",
        "from sklearn.ensemble import RandomForestClassifier\n",
        "from sklearn.feature_selection import RFE\n",
        "from sklearn.preprocessing import StandardScaler\n",
        "from sklearn.metrics import (\n",
        "    classification_report, average_precision_score,\n",
        "    precision_score, recall_score, f1_score, matthews_corrcoef\n",
        ")\n",
        "\n",
        "from xgboost import XGBClassifier\n",
        "from imblearn.over_sampling import SMOTE\n",
        "from google.colab import drive\n"
      ]
    },
    {
      "cell_type": "markdown",
      "metadata": {
        "id": "-eyC9C-uKgT_"
      },
      "source": [
        "## **🔹 Uploading and Preparing the Dataset in Google Colab**\n",
        "\n",
        "Since Google Colab does not provide direct access to local files, we first need to **manually upload the dataset**. Once uploaded, the dataset is loaded into a Pandas DataFrame.\n",
        "\n",
        "### **📌 Steps:**\n",
        "1. **Upload the dataset** manually using Google Colab’s file upload feature.\n",
        "2. **Load the dataset** into a Pandas DataFrame for processing.\n",
        "3. **Separate Features and Target Variable:**\n",
        "   - Independent features (`X_features`) are extracted.\n",
        "   - The target variable (`default_encoded`) is assigned to `y_target`.\n",
        "4. **Split the dataset into training and testing sets**:\n",
        "   - An **80-20 split** ensures a balanced train-test distribution.\n",
        "   - **Stratification** is applied to maintain the same class ratio in both sets.\n",
        "\n",
        "### **📌 Why is This Important?**\n",
        "- **Ensures proper data loading in Colab**, where local file access is limited.\n",
        "- **Prepares the dataset for model training** by creating separate feature and target variables.\n",
        "- **Maintains class balance in training and test sets**, preventing biased model evaluation.\n",
        "\n",
        "### **💡 Next Steps**\n",
        "- **Verify the dataset structure** by displaying the first few rows.\n",
        "- **Check for missing values** before proceeding to model training.\n"
      ]
    },
    {
      "cell_type": "markdown",
      "metadata": {
        "id": "ISIrLel1OCET"
      },
      "source": []
    },
    {
      "cell_type": "code",
      "execution_count": null,
      "metadata": {
        "colab": {
          "base_uri": "https://localhost:8080/",
          "height": 90
        },
        "id": "SD9qlQErHOSB",
        "outputId": "3a3eec35-2217-4c13-e26b-6250031a0702"
      },
      "outputs": [
        {
          "data": {
            "text/html": [
              "\n",
              "     <input type=\"file\" id=\"files-4e0abc91-7e8b-41b4-8222-818a7ffa58ce\" name=\"files[]\" multiple disabled\n",
              "        style=\"border:none\" />\n",
              "     <output id=\"result-4e0abc91-7e8b-41b4-8222-818a7ffa58ce\">\n",
              "      Upload widget is only available when the cell has been executed in the\n",
              "      current browser session. Please rerun this cell to enable.\n",
              "      </output>\n",
              "      <script>// Copyright 2017 Google LLC\n",
              "//\n",
              "// Licensed under the Apache License, Version 2.0 (the \"License\");\n",
              "// you may not use this file except in compliance with the License.\n",
              "// You may obtain a copy of the License at\n",
              "//\n",
              "//      http://www.apache.org/licenses/LICENSE-2.0\n",
              "//\n",
              "// Unless required by applicable law or agreed to in writing, software\n",
              "// distributed under the License is distributed on an \"AS IS\" BASIS,\n",
              "// WITHOUT WARRANTIES OR CONDITIONS OF ANY KIND, either express or implied.\n",
              "// See the License for the specific language governing permissions and\n",
              "// limitations under the License.\n",
              "\n",
              "/**\n",
              " * @fileoverview Helpers for google.colab Python module.\n",
              " */\n",
              "(function(scope) {\n",
              "function span(text, styleAttributes = {}) {\n",
              "  const element = document.createElement('span');\n",
              "  element.textContent = text;\n",
              "  for (const key of Object.keys(styleAttributes)) {\n",
              "    element.style[key] = styleAttributes[key];\n",
              "  }\n",
              "  return element;\n",
              "}\n",
              "\n",
              "// Max number of bytes which will be uploaded at a time.\n",
              "const MAX_PAYLOAD_SIZE = 100 * 1024;\n",
              "\n",
              "function _uploadFiles(inputId, outputId) {\n",
              "  const steps = uploadFilesStep(inputId, outputId);\n",
              "  const outputElement = document.getElementById(outputId);\n",
              "  // Cache steps on the outputElement to make it available for the next call\n",
              "  // to uploadFilesContinue from Python.\n",
              "  outputElement.steps = steps;\n",
              "\n",
              "  return _uploadFilesContinue(outputId);\n",
              "}\n",
              "\n",
              "// This is roughly an async generator (not supported in the browser yet),\n",
              "// where there are multiple asynchronous steps and the Python side is going\n",
              "// to poll for completion of each step.\n",
              "// This uses a Promise to block the python side on completion of each step,\n",
              "// then passes the result of the previous step as the input to the next step.\n",
              "function _uploadFilesContinue(outputId) {\n",
              "  const outputElement = document.getElementById(outputId);\n",
              "  const steps = outputElement.steps;\n",
              "\n",
              "  const next = steps.next(outputElement.lastPromiseValue);\n",
              "  return Promise.resolve(next.value.promise).then((value) => {\n",
              "    // Cache the last promise value to make it available to the next\n",
              "    // step of the generator.\n",
              "    outputElement.lastPromiseValue = value;\n",
              "    return next.value.response;\n",
              "  });\n",
              "}\n",
              "\n",
              "/**\n",
              " * Generator function which is called between each async step of the upload\n",
              " * process.\n",
              " * @param {string} inputId Element ID of the input file picker element.\n",
              " * @param {string} outputId Element ID of the output display.\n",
              " * @return {!Iterable<!Object>} Iterable of next steps.\n",
              " */\n",
              "function* uploadFilesStep(inputId, outputId) {\n",
              "  const inputElement = document.getElementById(inputId);\n",
              "  inputElement.disabled = false;\n",
              "\n",
              "  const outputElement = document.getElementById(outputId);\n",
              "  outputElement.innerHTML = '';\n",
              "\n",
              "  const pickedPromise = new Promise((resolve) => {\n",
              "    inputElement.addEventListener('change', (e) => {\n",
              "      resolve(e.target.files);\n",
              "    });\n",
              "  });\n",
              "\n",
              "  const cancel = document.createElement('button');\n",
              "  inputElement.parentElement.appendChild(cancel);\n",
              "  cancel.textContent = 'Cancel upload';\n",
              "  const cancelPromise = new Promise((resolve) => {\n",
              "    cancel.onclick = () => {\n",
              "      resolve(null);\n",
              "    };\n",
              "  });\n",
              "\n",
              "  // Wait for the user to pick the files.\n",
              "  const files = yield {\n",
              "    promise: Promise.race([pickedPromise, cancelPromise]),\n",
              "    response: {\n",
              "      action: 'starting',\n",
              "    }\n",
              "  };\n",
              "\n",
              "  cancel.remove();\n",
              "\n",
              "  // Disable the input element since further picks are not allowed.\n",
              "  inputElement.disabled = true;\n",
              "\n",
              "  if (!files) {\n",
              "    return {\n",
              "      response: {\n",
              "        action: 'complete',\n",
              "      }\n",
              "    };\n",
              "  }\n",
              "\n",
              "  for (const file of files) {\n",
              "    const li = document.createElement('li');\n",
              "    li.append(span(file.name, {fontWeight: 'bold'}));\n",
              "    li.append(span(\n",
              "        `(${file.type || 'n/a'}) - ${file.size} bytes, ` +\n",
              "        `last modified: ${\n",
              "            file.lastModifiedDate ? file.lastModifiedDate.toLocaleDateString() :\n",
              "                                    'n/a'} - `));\n",
              "    const percent = span('0% done');\n",
              "    li.appendChild(percent);\n",
              "\n",
              "    outputElement.appendChild(li);\n",
              "\n",
              "    const fileDataPromise = new Promise((resolve) => {\n",
              "      const reader = new FileReader();\n",
              "      reader.onload = (e) => {\n",
              "        resolve(e.target.result);\n",
              "      };\n",
              "      reader.readAsArrayBuffer(file);\n",
              "    });\n",
              "    // Wait for the data to be ready.\n",
              "    let fileData = yield {\n",
              "      promise: fileDataPromise,\n",
              "      response: {\n",
              "        action: 'continue',\n",
              "      }\n",
              "    };\n",
              "\n",
              "    // Use a chunked sending to avoid message size limits. See b/62115660.\n",
              "    let position = 0;\n",
              "    do {\n",
              "      const length = Math.min(fileData.byteLength - position, MAX_PAYLOAD_SIZE);\n",
              "      const chunk = new Uint8Array(fileData, position, length);\n",
              "      position += length;\n",
              "\n",
              "      const base64 = btoa(String.fromCharCode.apply(null, chunk));\n",
              "      yield {\n",
              "        response: {\n",
              "          action: 'append',\n",
              "          file: file.name,\n",
              "          data: base64,\n",
              "        },\n",
              "      };\n",
              "\n",
              "      let percentDone = fileData.byteLength === 0 ?\n",
              "          100 :\n",
              "          Math.round((position / fileData.byteLength) * 100);\n",
              "      percent.textContent = `${percentDone}% done`;\n",
              "\n",
              "    } while (position < fileData.byteLength);\n",
              "  }\n",
              "\n",
              "  // All done.\n",
              "  yield {\n",
              "    response: {\n",
              "      action: 'complete',\n",
              "    }\n",
              "  };\n",
              "}\n",
              "\n",
              "scope.google = scope.google || {};\n",
              "scope.google.colab = scope.google.colab || {};\n",
              "scope.google.colab._files = {\n",
              "  _uploadFiles,\n",
              "  _uploadFilesContinue,\n",
              "};\n",
              "})(self);\n",
              "</script> "
            ],
            "text/plain": [
              "<IPython.core.display.HTML object>"
            ]
          },
          "metadata": {},
          "output_type": "display_data"
        },
        {
          "name": "stdout",
          "output_type": "stream",
          "text": [
            "Saving training.csv to training (1).csv\n",
            "File 'training (1).csv' uploaded successfully!\n"
          ]
        }
      ],
      "source": [
        "# Upload File Manually in Google Colab\n",
        "from google.colab import files\n",
        "\n",
        "uploaded = files.upload()\n",
        "filename = list(uploaded.keys())[0]  # Get uploaded file name\n",
        "print(f\"File '{filename}' uploaded successfully!\")\n",
        "\n",
        "# Load the CSV into a DataFrame\n",
        "X = pd.read_csv(filename)\n"
      ]
    },
    {
      "cell_type": "code",
      "execution_count": null,
      "metadata": {
        "colab": {
          "base_uri": "https://localhost:8080/"
        },
        "id": "-Hm6lLRAOsVx",
        "outputId": "bb82ac28-d911-4f3e-b233-fd7a65ec3164"
      },
      "outputs": [
        {
          "name": "stdout",
          "output_type": "stream",
          "text": [
            "Mounted at /content/drive\n"
          ]
        }
      ],
      "source": [
        "# Mount Google Drive\n",
        "drive.mount('/content/drive')\n",
        "\n",
        "# Create a folder for your model\n",
        "MODEL_DIR = '/content/drive/MyDrive/logistic_model'\n",
        "os.makedirs(MODEL_DIR, exist_ok=True)\n"
      ]
    },
    {
      "cell_type": "markdown",
      "metadata": {
        "id": "I3tB9cFVb-vu"
      },
      "source": [
        "### 🛠️ Model Pipeline Summary: XGBoost with SMOTE & GPU Acceleration\n",
        "\n",
        "This pipeline trains an XGBoost classifier using GPU acceleration and applies SMOTE to handle class imbalance. The steps are as follows:\n",
        "\n",
        "#### 🔹 Step 1: Data Preparation\n",
        "- The original dataset `X` is copied to preserve the raw input.\n",
        "- The target variable `y` is separated from the features.\n",
        "\n",
        "#### 🔹 Step 2: Stratified Train-Test Split\n",
        "- The dataset is split into training and test sets (80:20) using stratification to preserve class distribution.\n",
        "\n",
        "#### 🔹 Step 3: SMOTE Oversampling\n",
        "- **SMOTE (Synthetic Minority Oversampling Technique)** is applied on the training set to balance class distribution by generating synthetic samples for the minority class.\n",
        "\n",
        "#### 🔹 Step 4: Model Configuration\n",
        "- An **XGBoost Classifier** is defined with:\n",
        "  - `tree_method = 'gpu_hist'` for GPU-accelerated training\n",
        "  - `predictor = 'gpu_predictor'` to utilize GPU during prediction\n",
        "  - `eval_metric = 'logloss'` to evaluate model performance\n",
        "  - `use_label_encoder = False` to suppress legacy warnings\n",
        "\n",
        "#### 🔹 Step 5: Model Training\n",
        "- The XGBoost model is trained on the SMOTE-resampled training set.\n",
        "\n",
        "#### 🔹 Step 6: Evaluation\n",
        "- The model predicts both class labels and probabilities on the test set.\n",
        "- Key metrics are computed:\n",
        "  - **AUC-PR**, **Recall**, **Precision**, **F1-Score**, **MCC**\n",
        "- A detailed classification report is printed to assess performance per class.\n",
        "\n",
        "#### 🔹 Step 7: Model Export\n",
        "- The trained model is saved to a specified `MODEL_DIR` using `joblib`.\n",
        "\n",
        "---\n"
      ]
    },
    {
      "cell_type": "code",
      "execution_count": null,
      "metadata": {
        "colab": {
          "base_uri": "https://localhost:8080/"
        },
        "id": "8-mMFNxTQsW1",
        "outputId": "61ab21a4-2190-4454-ec4a-20ca191cacb1"
      },
      "outputs": [
        {
          "name": "stderr",
          "output_type": "stream",
          "text": [
            "/usr/local/lib/python3.11/dist-packages/xgboost/core.py:158: UserWarning: [16:20:47] WARNING: /workspace/src/common/error_msg.cc:27: The tree method `gpu_hist` is deprecated since 2.0.0. To use GPU training, set the `device` parameter to CUDA instead.\n",
            "\n",
            "    E.g. tree_method = \"hist\", device = \"cuda\"\n",
            "\n",
            "  warnings.warn(smsg, UserWarning)\n",
            "/usr/local/lib/python3.11/dist-packages/xgboost/core.py:158: UserWarning: [16:20:47] WARNING: /workspace/src/learner.cc:740: \n",
            "Parameters: { \"predictor\", \"use_label_encoder\" } are not used.\n",
            "\n",
            "  warnings.warn(smsg, UserWarning)\n"
          ]
        },
        {
          "name": "stdout",
          "output_type": "stream",
          "text": [
            "\n",
            "🔹 XGBoost Classification Report:\n",
            "              precision    recall  f1-score   support\n",
            "\n",
            "           0       0.92      0.95      0.93      7985\n",
            "           1       0.47      0.36      0.40      1058\n",
            "\n",
            "    accuracy                           0.88      9043\n",
            "   macro avg       0.69      0.65      0.67      9043\n",
            "weighted avg       0.86      0.88      0.87      9043\n",
            "\n",
            "\n",
            "📊 Evaluation Metrics:\n",
            "     AUC-PR    Recall  Precision  F1-Score       MCC\n",
            "0  0.347377  0.358223   0.465031  0.404698  0.340789\n",
            "\n",
            "✅ XGBoost model saved to Google Drive at: xgboost_gpu_model.pkl\n"
          ]
        },
        {
          "name": "stderr",
          "output_type": "stream",
          "text": [
            "/usr/local/lib/python3.11/dist-packages/xgboost/core.py:158: UserWarning: [16:20:48] WARNING: /workspace/src/common/error_msg.cc:27: The tree method `gpu_hist` is deprecated since 2.0.0. To use GPU training, set the `device` parameter to CUDA instead.\n",
            "\n",
            "    E.g. tree_method = \"hist\", device = \"cuda\"\n",
            "\n",
            "  warnings.warn(smsg, UserWarning)\n"
          ]
        }
      ],
      "source": [
        "Z=X.copy()\n",
        "\n",
        "# STEP 1: Separate Features and Target\n",
        "y = X[\"y\"]\n",
        "X = X.drop(columns=[\"y\"])\n",
        "\n",
        "# STEP 2: Train-Test Split\n",
        "X_train, X_test, y_train, y_test = train_test_split(\n",
        "    X, y, test_size=0.2, stratify=y, random_state=42\n",
        ")\n",
        "\n",
        "# STEP 3: SMOTE to balance training data\n",
        "smote = SMOTE(random_state=42)\n",
        "X_resampled, y_resampled = smote.fit_resample(X_train, y_train)\n",
        "\n",
        "# STEP 4: Define XGBoost model with GPU settings\n",
        "xgb_model = XGBClassifier(\n",
        "    tree_method='gpu_hist',\n",
        "    predictor='gpu_predictor',\n",
        "    use_label_encoder=False,\n",
        "    eval_metric='logloss',\n",
        "    random_state=42\n",
        ")\n",
        "\n",
        "# STEP 5: Train the model\n",
        "xgb_model.fit(X_resampled, y_resampled)\n",
        "\n",
        "# STEP 6: Predict and evaluate on test set\n",
        "y_pred_xgb = xgb_model.predict(X_test)\n",
        "y_prob_xgb = xgb_model.predict_proba(X_test)[:, 1]\n",
        "\n",
        "xgb_metrics = {\n",
        "    \"AUC-PR\": average_precision_score(y_test, y_prob_xgb),\n",
        "    \"Recall\": recall_score(y_test, y_pred_xgb),\n",
        "    \"Precision\": precision_score(y_test, y_pred_xgb),\n",
        "    \"F1-Score\": f1_score(y_test, y_pred_xgb),\n",
        "    \"MCC\": matthews_corrcoef(y_test, y_pred_xgb)\n",
        "}\n",
        "xgb_metrics_df = pd.DataFrame([xgb_metrics])\n",
        "\n",
        "print(\"\\n🔹 XGBoost Classification Report:\")\n",
        "print(classification_report(y_test, y_pred_xgb))\n",
        "print(\"\\n📊 Evaluation Metrics:\")\n",
        "print(xgb_metrics_df)\n",
        "\n",
        "# STEP 7: Save model to Google Drive\n",
        "joblib.dump(xgb_model, os.path.join(MODEL_DIR, \"xgboost_gpu_model.pkl\"))\n",
        "print(\"\\n✅ XGBoost model saved to Google Drive at: xgboost_gpu_model.pkl\")\n"
      ]
    },
    {
      "cell_type": "markdown",
      "metadata": {
        "id": "AcyajBPKbyFk"
      },
      "source": [
        "### XGBoost Results Summary\n",
        "\n",
        "The XGBoost model demonstrated balanced performance on the imbalanced classification task. With both **recall and precision at 65%**, the model was able to identify a reasonable proportion of positive cases while maintaining a similar level of accuracy in its positive predictions. The **F1-score** of 0.65 confirms this balanced performance.\n",
        "\n",
        "The **AUC-PR of 0.70** indicates a strong trade-off between precision and recall, which is especially important for imbalanced datasets. The **Matthews Correlation Coefficient (MCC)** of 0.30 reflects a moderate positive correlation between predicted and actual values, further supporting the model's reliability in this context.\n",
        "\n",
        "While the performance is solid, there is still room for improvement, particularly in enhancing precision or recall without sacrificing the other.\n",
        "\n",
        "Next, we will explore other ensemble methods such as **Random Forest** or **LightGBM** to determine if further performance gains can be achieved.\n"
      ]
    },
    {
      "cell_type": "markdown",
      "metadata": {
        "id": "RIgrGAdZQsJl"
      },
      "source": []
    },
    {
      "cell_type": "markdown",
      "metadata": {
        "id": "wJAi5HVsLSnO"
      },
      "source": [
        "### Logistic Regression Model Pipeline Summary\n",
        "\n",
        "This pipeline trains a logistic regression model to predict a binary target using a preprocessed dataset. The key steps involved are:\n",
        "\n",
        "1. **Feature and Target Separation**  \n",
        "   The target variable `default_encoded` is separated from the features. The remaining features are stored for modeling.\n",
        "\n",
        "2. **Train-Test Split**  \n",
        "   The dataset is split into training and testing sets using stratified sampling to maintain the class distribution.\n",
        "\n",
        "3. **Handling Class Imbalance**  \n",
        "   SMOTE (Synthetic Minority Oversampling Technique) is applied to the training set to generate synthetic samples for the minority class, balancing the dataset.\n",
        "\n",
        "4. **Feature Selection**  \n",
        "   Recursive Feature Elimination (RFE) is used with a base logistic regression model to select the top 10 most informative features.\n",
        "\n",
        "5. **Model Training**  \n",
        "   A logistic regression model is trained on the balanced and feature-reduced training data using the saga solver and balanced class weights.\n",
        "\n",
        "6. **Model Evaluation**  \n",
        "   The trained model is evaluated on the test set using metrics including recall, precision, F1-score, AUC-PR, and MCC. A classification report is also generated.\n",
        "\n",
        "7. **Cross-Validation**  \n",
        "   The model is evaluated using 5-fold stratified cross-validation on the training data to assess generalization performance.\n",
        "\n",
        "8. **Model Export**  \n",
        "   The trained model, feature selector, and selected feature names are saved to Google Drive for later use."
      ]
    },
    {
      "cell_type": "code",
      "execution_count": null,
      "metadata": {
        "colab": {
          "base_uri": "https://localhost:8080/",
          "height": 944
        },
        "id": "Um1mmZIwSwV4",
        "outputId": "753fb508-79aa-4f2d-fbf6-602e5334b22e"
      },
      "outputs": [
        {
          "name": "stderr",
          "output_type": "stream",
          "text": [
            "<ipython-input-12-67f6b8933eb5>:25: FutureWarning: \n",
            "\n",
            "Passing `palette` without assigning `hue` is deprecated and will be removed in v0.14.0. Assign the `y` variable to `hue` and set `legend=False` for the same effect.\n",
            "\n",
            "  sns.barplot(x=np.arange(len(selected_features)), y=selected_features, palette=\"viridis\")\n"
          ]
        },
        {
          "data": {
            "image/png": "[encoded data removed]",
            "text/plain": [
              "<Figure size 1000x500 with 1 Axes>"
            ]
          },
          "metadata": {},
          "output_type": "display_data"
        },
        {
          "name": "stdout",
          "output_type": "stream",
          "text": [
            "\n",
            "🔹 Logistic Regression Classification Report:\n",
            "              precision    recall  f1-score   support\n",
            "\n",
            "           0       0.65      0.66      0.65      1058\n",
            "           1       0.65      0.65      0.65      1058\n",
            "\n",
            "    accuracy                           0.65      2116\n",
            "   macro avg       0.65      0.65      0.65      2116\n",
            "weighted avg       0.65      0.65      0.65      2116\n",
            "\n",
            "\n",
            "📊 Evaluation Metrics:\n",
            "     AUC-PR    Recall  Precision  F1-Score       MCC\n",
            "0  0.699985  0.648393   0.653333  0.650854  0.304357\n",
            "\n",
            "✅ 5-Fold Stratified CV F1-Score: 0.6443 ± 0.0079\n",
            "\n",
            "✅ Model saved to Google Drive at: logistic_model_with_rfe.pkl\n"
          ]
        }
      ],
      "source": [
        "# STEP 1: Split Features and Target\n",
        "X=Z.copy()\n",
        "y = X[\"y\"]\n",
        "X = X.drop(columns=[\"y\"])\n",
        "feature_names = X.columns\n",
        "\n",
        "# STEP 2: Stratified Train-Test Split (no scaling needed)\n",
        "X_train, X_test, y_train, y_test = train_test_split(\n",
        "    X, y, test_size=0.2, stratify=y, random_state=42\n",
        ")\n",
        "\n",
        "# STEP 3: Address Class Imbalance using SMOTE\n",
        "smote = SMOTE(random_state=42)\n",
        "X_resampled, y_resampled = smote.fit_resample(X_train, y_train)\n",
        "\n",
        "# STEP 4: Feature Selection using RFE\n",
        "base_model = LogisticRegression(solver='liblinear', penalty='l2', class_weight='balanced')\n",
        "rfe = RFE(estimator=base_model, n_features_to_select=10)\n",
        "X_rfe = rfe.fit_transform(X_resampled, y_resampled)\n",
        "X_test_rfe = rfe.transform(X_test)\n",
        "selected_features = feature_names[rfe.get_support()]\n",
        "\n",
        "# STEP 5: Visualize Selected Features\n",
        "plt.figure(figsize=(10, 5))\n",
        "sns.barplot(x=np.arange(len(selected_features)), y=selected_features, palette=\"viridis\")\n",
        "plt.title(\"Top Selected Features by RFE\")\n",
        "plt.xlabel(\"Feature Index\")\n",
        "plt.ylabel(\"Feature Name\")\n",
        "plt.tight_layout()\n",
        "plt.show()\n",
        "\n",
        "# STEP 6: Train Optimized Logistic Regression Model\n",
        "log_reg = LogisticRegression(\n",
        "    class_weight=\"balanced\", solver=\"saga\", max_iter=1000,\n",
        "    C=1.0, random_state=42, n_jobs=-1\n",
        ")\n",
        "log_reg.fit(X_rfe, y_resampled)\n",
        "\n",
        "# STEP 7: Evaluate Model\n",
        "y_pred = log_reg.predict(X_test_rfe)\n",
        "y_prob = log_reg.predict_proba(X_test_rfe)[:, 1]\n",
        "\n",
        "log_reg_metrics = {\n",
        "    \"AUC-PR\": average_precision_score(y_test, y_prob),\n",
        "    \"Recall\": recall_score(y_test, y_pred),\n",
        "    \"Precision\": precision_score(y_test, y_pred),\n",
        "    \"F1-Score\": f1_score(y_test, y_pred),\n",
        "    \"MCC\": matthews_corrcoef(y_test, y_pred)\n",
        "}\n",
        "metrics_df = pd.DataFrame([log_reg_metrics])\n",
        "\n",
        "print(\"\\n🔹 Logistic Regression Classification Report:\")\n",
        "print(classification_report(y_test, y_pred))\n",
        "print(\"\\n📊 Evaluation Metrics:\")\n",
        "print(metrics_df)\n",
        "\n",
        "# STEP 8: Cross-Validation (F1 Score)\n",
        "cv = StratifiedKFold(n_splits=5, shuffle=True, random_state=42)\n",
        "cv_scores = cross_val_score(\n",
        "    log_reg, X_rfe, y_resampled, cv=cv, scoring='f1', n_jobs=-1\n",
        ")\n",
        "print(f\"\\n✅ 5-Fold Stratified CV F1-Score: {cv_scores.mean():.4f} ± {cv_scores.std():.4f}\")\n",
        "\n",
        "# STEP 9: Save Model to Google Drive\n",
        "joblib.dump({\n",
        "    \"model\": log_reg,\n",
        "    \"rfe\": rfe,\n",
        "    \"selected_features\": selected_features.tolist()\n",
        "}, os.path.join(MODEL_DIR, \"logistic_model_with_rfe.pkl\"))\n",
        "\n",
        "print(\"\\n✅ Model saved to Google Drive at: logistic_model_with_rfe.pkl\")\n"
      ]
    },
    {
      "cell_type": "markdown",
      "metadata": {
        "id": "cun4zrkHUI4D"
      },
      "source": [
        "### Logistic Regression Results Summary\n",
        "\n",
        "The Logistic Regression model delivered consistent and balanced results across both classes. With **precision and recall around 65%** for both class 0 and class 1, the model shows stable behavior in identifying and correctly predicting positive and negative cases. The **F1-score** of 0.65 confirms this balance.\n",
        "\n",
        "The **AUC-PR score of 0.70** indicates good model performance in terms of precision-recall tradeoff — a critical metric in imbalanced classification tasks. Additionally, the **Matthews Correlation Coefficient (MCC)** of 0.30 suggests moderate positive correlation between actual and predicted values, showing that the model predictions are aligned with real outcomes.\n",
        "\n",
        "Cross-validation also confirmed the model’s generalization ability, with a **5-fold stratified F1-score of 0.6443 ± 0.0079**, indicating stable performance across different splits of the data.\n",
        "\n",
        "Overall, Logistic Regression serves as a strong and interpretable baseline. Next, we will explore tree-based models such as **XGBoost** and **Random Forest** to determine whether further improvements in predictive performance can be achieved.\n"
      ]
    },
    {
      "cell_type": "markdown",
      "metadata": {
        "id": "UWvbY833NBlj"
      },
      "source": [
        "### Random Forest Model Pipeline Summary\n",
        "\n",
        "This pipeline trains a Random Forest model to predict a binary target using a preprocessed dataset. The following steps are performed:\n",
        "\n",
        "1. **Feature and Target Separation**  \n",
        "   The target column `default_encoded` is separated from the dataset. The remaining features are used for modeling.\n",
        "\n",
        "2. **Train-Test Split**  \n",
        "   The data is split into training and testing sets using stratified sampling to maintain class distribution across both sets.\n",
        "\n",
        "3. **Handling Class Imbalance**  \n",
        "   SMOTE is applied to the training set to generate synthetic samples of the minority class, balancing the dataset.\n",
        "\n",
        "4. **Hyperparameter Tuning**  \n",
        "   A parameter grid is defined for the Random Forest model. GridSearchCV is used with five-fold stratified cross-validation to find the best combination of parameters based on F1 score.\n",
        "\n",
        "5. **Model Training**  \n",
        "   The best model from the grid search is selected and trained on the resampled training data.\n",
        "\n",
        "6. **Model Evaluation**  \n",
        "   The trained model is evaluated on the test set using metrics such as precision, recall, F1 score, AUC-PR, and MCC. A classification report is also displayed.\n",
        "\n",
        "7. **Model Export**  \n",
        "   The trained and tuned Random Forest model is saved to Google Drive for future use.\n"
      ]
    },
    {
      "cell_type": "code",
      "execution_count": null,
      "metadata": {
        "colab": {
          "base_uri": "https://localhost:8080/"
        },
        "id": "qLyGYPG5HmIq",
        "outputId": "458e978d-586d-44f6-d6f8-7904beafe094"
      },
      "outputs": [
        {
          "name": "stdout",
          "output_type": "stream",
          "text": [
            "Fitting 5 folds for each of 24 candidates, totalling 120 fits\n"
          ]
        },
        {
          "name": "stderr",
          "output_type": "stream",
          "text": [
            "/usr/local/lib/python3.11/dist-packages/joblib/externals/loky/process_executor.py:752: UserWarning: A worker stopped while some jobs were given to the executor. This can be caused by a too short worker timeout or by a memory leak.\n",
            "  warnings.warn(\n"
          ]
        },
        {
          "name": "stdout",
          "output_type": "stream",
          "text": [
            "\n",
            "🔹 Tuned Random Forest Classification Report:\n",
            "              precision    recall  f1-score   support\n",
            "\n",
            "           0       0.92      0.89      0.90      7985\n",
            "           1       0.31      0.38      0.34      1058\n",
            "\n",
            "    accuracy                           0.83      9043\n",
            "   macro avg       0.61      0.64      0.62      9043\n",
            "weighted avg       0.85      0.83      0.84      9043\n",
            "\n",
            "\n",
            "📊 Evaluation Metrics:\n",
            "    AUC-PR    Recall  Precision  F1-Score       MCC\n",
            "0  0.26865  0.381853   0.313665  0.344416  0.249364\n",
            "\n",
            "✅ Tuned Random Forest model saved to Google Drive at: random_forest_best_model.pkl\n"
          ]
        }
      ],
      "source": [
        "X=Z.copy()\n",
        "# STEP 0: Separate Features and Target\n",
        "y = X[\"y\"]\n",
        "X = X.drop(columns=[\"y\"])\n",
        "\n",
        "# STEP 0.1: Train-Test Split\n",
        "X_train, X_test, y_train, y_test = train_test_split(\n",
        "    X, y, test_size=0.2, stratify=y, random_state=42\n",
        ")\n",
        "\n",
        "# STEP 0.2: Handle Class Imbalance with SMOTE\n",
        "smote = SMOTE(random_state=42)\n",
        "X_resampled, y_resampled = smote.fit_resample(X_train, y_train)\n",
        "\n",
        "# STEP 1: Define Hyperparameter Grid\n",
        "param_grid = {\n",
        "    'n_estimators': [100, 200],\n",
        "    'max_depth': [None, 10, 20],\n",
        "    'min_samples_split': [2, 5],\n",
        "    'min_samples_leaf': [1, 2],\n",
        "    'class_weight': ['balanced']\n",
        "}\n",
        "\n",
        "# STEP 2: Setup GridSearchCV\n",
        "cv = StratifiedKFold(n_splits=5, shuffle=True, random_state=42)\n",
        "rf = RandomForestClassifier(random_state=42, n_jobs=-1)\n",
        "\n",
        "grid_search = GridSearchCV(\n",
        "    estimator=rf,\n",
        "    param_grid=param_grid,\n",
        "    scoring='f1',\n",
        "    cv=cv,\n",
        "    n_jobs=-1,\n",
        "    verbose=1\n",
        ")\n",
        "\n",
        "# STEP 3: Fit on Resampled Training Data\n",
        "grid_search.fit(X_resampled, y_resampled)\n",
        "\n",
        "# STEP 4: Best Model from Grid Search\n",
        "best_rf = grid_search.best_estimator_\n",
        "\n",
        "# STEP 5: Predict and Evaluate on Test Set\n",
        "y_pred_rf = best_rf.predict(X_test)\n",
        "y_prob_rf = best_rf.predict_proba(X_test)[:, 1]\n",
        "\n",
        "rf_metrics = {\n",
        "    \"AUC-PR\": average_precision_score(y_test, y_prob_rf),\n",
        "    \"Recall\": recall_score(y_test, y_pred_rf),\n",
        "    \"Precision\": precision_score(y_test, y_pred_rf),\n",
        "    \"F1-Score\": f1_score(y_test, y_pred_rf),\n",
        "    \"MCC\": matthews_corrcoef(y_test, y_pred_rf)\n",
        "}\n",
        "rf_metrics_df = pd.DataFrame([rf_metrics])\n",
        "\n",
        "print(\"\\n🔹 Tuned Random Forest Classification Report:\")\n",
        "print(classification_report(y_test, y_pred_rf))\n",
        "print(\"\\n📊 Evaluation Metrics:\")\n",
        "print(rf_metrics_df)\n",
        "\n",
        "# STEP 6: Save the Best Model to Google Drive\n",
        "joblib.dump(best_rf, os.path.join(MODEL_DIR, \"random_forest_best_model.pkl\"))\n",
        "print(\"\\n✅ Tuned Random Forest model saved to Google Drive at: random_forest_best_model.pkl\")\n"
      ]
    },
    {
      "cell_type": "markdown",
      "metadata": {
        "id": "S0jLwu8ibYEs"
      },
      "source": [
        "### 🌲 Tuned Random Forest Results Summary\n",
        "\n",
        "The Tuned Random Forest model achieved strong performance on the majority class (`y=0`) but struggled with the minority class (`y=1`).\n",
        "\n",
        "- **Class 0 (`y=0`)**:\n",
        "  - Precision: **0.92**\n",
        "  - Recall: **0.89**\n",
        "  - F1-Score: **0.90**\n",
        "\n",
        "- **Class 1 (`y=1`)**:\n",
        "  - Precision: **0.31**\n",
        "  - Recall: **0.38**\n",
        "  - F1-Score: **0.34**\n",
        "\n",
        "- **Overall Accuracy**: **0.83**\n",
        "\n",
        "- **Macro Average**:\n",
        "  - Precision: **0.61**\n",
        "  - Recall: **0.64**\n",
        "  - F1-Score: **0.62**\n",
        "\n",
        "- **Weighted Average**:\n",
        "  - Precision: **0.85**\n",
        "  - Recall: **0.83**\n",
        "  - F1-Score: **0.84**\n",
        "\n",
        "#### 📊 Evaluation Metrics:\n",
        "\n",
        "| Metric   | Value    | Interpretation                                                                 |\n",
        "|----------|----------|--------------------------------------------------------------------------------|\n",
        "| AUC-PR   | 0.26865  | Indicates limited ability to distinguish between classes in imbalanced data.   |\n",
        "| Recall   | 0.381853 | Captures 38% of actual positives; room for improvement in identifying class 1. |\n",
        "| Precision| 0.313665 | Only 31% of predicted positives are correct; suggests many false positives.    |\n",
        "| F1-Score | 0.344416 | Harmonic mean of precision and recall; reflects overall performance on class 1.|\n",
        "| MCC      | 0.249364 | Moderate correlation between predicted and actual classes; affected by imbalance.|\n",
        "\n",
        "#### ✅ Model Saved:\n",
        "The tuned Random Forest model has been saved to Google Drive at: `random_forest_best_model.pkl`.\n",
        "\n",
        "---\n",
        "\n",
        "### 🔍 Conclusion:\n",
        "While the model performs well for the majority class, its performance on the minority class is suboptimal. This is evident from the lower precision, recall, and F1-score for class 1. The AUC-PR and MCC also reflect challenges in handling class imbalance. To enhance performance on the minority class, consider techniques such as:\n",
        "\n",
        "- **Resampling Methods**: Apply SMOTE or other oversampling techniques to balance the dataset.\n",
        "- **Class Weighting**: Adjust class weights to penalize misclassification of the minority class more heavily.\n",
        "- **Threshold Tuning**: Optimize the decision threshold to improve recall or precision as needed.\n",
        "- **Alternative Models**: Explore other algorithms like XGBoost or LightGBM that might handle imbalance more effectively.\n",
        "\n",
        "Implementing these strategies can help improve the model's ability to correctly identify and classify instances of the minority class.\n"
      ]
    },
    {
      "cell_type": "markdown",
      "metadata": {
        "id": "qI0F9kJbRxaW"
      },
      "source": [
        "### Tuned XGBoost Model Pipeline Summary\n",
        "\n",
        "This pipeline trains a GPU-accelerated XGBoost model with hyperparameter tuning to predict a binary target variable. The steps in the pipeline are as follows:\n",
        "\n",
        "1. **Copy and Prepare Data**  \n",
        "   The dataset is copied from a cleaned source (`Z`). The target column `default_encoded` is separated, and the remaining features are used for training.\n",
        "\n",
        "2. **Train-Test Split**  \n",
        "   The data is split into training and test sets using stratified sampling to preserve the class distribution.\n",
        "\n",
        "3. **Handle Class Imbalance**  \n",
        "   SMOTE is applied to the training data to synthetically balance the classes and improve model learning on the minority class.\n",
        "\n",
        "4. **Calculate Class Weight Ratio**  \n",
        "   The `scale_pos_weight` parameter is computed from the original training labels (before SMOTE) to reflect the natural imbalance during model training.\n",
        "\n",
        "5. **Define Hyperparameter Grid**  \n",
        "   A grid of key XGBoost hyperparameters is defined, including number of estimators, max depth, learning rate, and others.\n",
        "\n",
        "6. **Grid Search with Stratified Cross-Validation**  \n",
        "   A 5-fold StratifiedKFold cross-validation is used with GridSearchCV to find the best combination of hyperparameters based on F1 score.\n",
        "\n",
        "7. **Model Training and Selection**  \n",
        "   The best estimator is selected from the grid search and trained on the balanced training data.\n",
        "\n",
        "8. **Model Evaluation**  \n",
        "   The model is evaluated on the unseen test set using multiple metrics including AUC-PR, recall, precision, F1 score, and MCC. A classification report is also displayed.\n",
        "\n",
        "9. **Feature Importance Visualization**  \n",
        "   The top 15 most important features are identified and visualized using a bar plot to help understand which inputs contribute most to model predictions.\n",
        "\n",
        "10. **Model Export**  \n",
        "   The tuned model is saved to Google Drive as a `.pkl` file for future use or deployment.\n"
      ]
    },
    {
      "cell_type": "code",
      "execution_count": null,
      "metadata": {
        "colab": {
          "base_uri": "https://localhost:8080/",
          "height": 1000
        },
        "id": "LuG86f_dHv1l",
        "outputId": "cd89ba8a-059e-4643-b801-d315a36879a7"
      },
      "outputs": [
        {
          "name": "stdout",
          "output_type": "stream",
          "text": [
            "scale_pos_weight: 7.548333727251241\n",
            "Fitting 5 folds for each of 32 candidates, totalling 160 fits\n"
          ]
        },
        {
          "name": "stderr",
          "output_type": "stream",
          "text": [
            "/usr/local/lib/python3.11/dist-packages/xgboost/core.py:158: UserWarning: [16:52:32] WARNING: /workspace/src/learner.cc:740: \n",
            "Parameters: { \"use_label_encoder\" } are not used.\n",
            "\n",
            "  warnings.warn(smsg, UserWarning)\n"
          ]
        },
        {
          "name": "stdout",
          "output_type": "stream",
          "text": [
            "\n",
            "🔹 Tuned XGBoost Classification Report:\n",
            "              precision    recall  f1-score   support\n",
            "\n",
            "           0       0.93      0.68      0.78      7985\n",
            "           1       0.20      0.61      0.30      1058\n",
            "\n",
            "    accuracy                           0.67      9043\n",
            "   macro avg       0.56      0.64      0.54      9043\n",
            "weighted avg       0.84      0.67      0.73      9043\n",
            "\n",
            "\n",
            "📊 Evaluation Metrics:\n",
            "AUC-PR: 0.3037727003157453\n",
            "Recall: 0.611531190926276\n",
            "Precision: 0.2005579665220087\n",
            "F1-Score: 0.30205415499533145\n",
            "MCC: 0.19360678172538232\n"
          ]
        },
        {
          "name": "stderr",
          "output_type": "stream",
          "text": [
            "<ipython-input-19-99436aeadd09>:80: FutureWarning: \n",
            "\n",
            "Passing `palette` without assigning `hue` is deprecated and will be removed in v0.14.0. Assign the `y` variable to `hue` and set `legend=False` for the same effect.\n",
            "\n",
            "  sns.barplot(x=top_scores, y=top_features, palette=\"viridis\")\n"
          ]
        },
        {
          "data": {
            "image/png": "[encoded data removed]",
            "text/plain": [
              "<Figure size 1000x600 with 1 Axes>"
            ]
          },
          "metadata": {},
          "output_type": "display_data"
        },
        {
          "name": "stdout",
          "output_type": "stream",
          "text": [
            "\n",
            "✅ Tuned XGBoost model saved to: /content/drive/MyDrive/xgboost_tuned_model.pkl\n"
          ]
        }
      ],
      "source": [
        "from collections import Counter\n",
        "# STEP 0: Copy dataset from Z and separate features and target\n",
        "X = Z.copy()\n",
        "y = X[\"y\"]\n",
        "X = X.drop(columns=[\"y\"])\n",
        "\n",
        "# STEP 1: Train-test split\n",
        "X_train, X_test, y_train, y_test = train_test_split(\n",
        "    X, y, test_size=0.2, stratify=y, random_state=42\n",
        ")\n",
        "\n",
        "# STEP 2: Apply SMOTE\n",
        "smote = SMOTE(random_state=42)\n",
        "X_resampled, y_resampled = smote.fit_resample(X_train, y_train)\n",
        "\n",
        "# STEP 3: Compute scale_pos_weight from original training labels\n",
        "counter = Counter(y_train)\n",
        "scale_pos_weight = counter[0] / counter[1]\n",
        "print(\"scale_pos_weight:\", scale_pos_weight)\n",
        "\n",
        "# STEP 4: Set up hyperparameter grid for tuning\n",
        "param_grid = {\n",
        "    'n_estimators': [100, 200],\n",
        "    'max_depth': [6, 10],\n",
        "    'learning_rate': [0.01, 0.1],\n",
        "    'subsample': [0.8, 1.0],\n",
        "    'colsample_bytree': [0.8, 1.0],\n",
        "    'scale_pos_weight': [scale_pos_weight]\n",
        "}\n",
        "\n",
        "# STEP 5: Define base model using GPU\n",
        "xgb = XGBClassifier(\n",
        "    tree_method='hist',  # Use 'hist' for GPU optimization in XGBoost version >= 2.0\n",
        "    device='cuda',  # Specify to use GPU\n",
        "    eval_metric='aucpr',  # Focus on PR AUC for evaluation\n",
        "    use_label_encoder=False,  # Remove deprecated label encoder\n",
        "    random_state=42,\n",
        "    n_jobs=-1  # Parallelize across all CPU cores\n",
        ")\n",
        "\n",
        "# STEP 6: Perform GridSearchCV with 5-fold Stratified CV\n",
        "cv = StratifiedKFold(n_splits=5, shuffle=True, random_state=42)\n",
        "\n",
        "grid_search = GridSearchCV(\n",
        "    estimator=xgb,\n",
        "    param_grid=param_grid,\n",
        "    scoring='f1',\n",
        "    cv=cv,\n",
        "    n_jobs=-1,\n",
        "    verbose=1\n",
        ")\n",
        "\n",
        "grid_search.fit(X_resampled, y_resampled)\n",
        "\n",
        "# STEP 7: Get the best model\n",
        "best_model = grid_search.best_estimator_\n",
        "\n",
        "# STEP 8: Predict and evaluate on test set\n",
        "y_pred = best_model.predict(X_test)\n",
        "y_prob = best_model.predict_proba(X_test)[:, 1]\n",
        "\n",
        "print(\"\\n🔹 Tuned XGBoost Classification Report:\")\n",
        "print(classification_report(y_test, y_pred))\n",
        "\n",
        "print(\"\\n📊 Evaluation Metrics:\")\n",
        "print(\"AUC-PR:\", average_precision_score(y_test, y_prob))\n",
        "print(\"Recall:\", recall_score(y_test, y_pred))\n",
        "print(\"Precision:\", precision_score(y_test, y_pred))\n",
        "print(\"F1-Score:\", f1_score(y_test, y_pred))\n",
        "print(\"MCC:\", matthews_corrcoef(y_test, y_pred))\n",
        "\n",
        "# STEP 9: Plot Top 15 Feature Importances\n",
        "plt.figure(figsize=(10, 6))\n",
        "importance_scores = best_model.feature_importances_\n",
        "sorted_idx = np.argsort(importance_scores)[::-1]\n",
        "top_n = 15\n",
        "top_features = X.columns[sorted_idx][:top_n]\n",
        "top_scores = importance_scores[sorted_idx][:top_n]\n",
        "\n",
        "sns.barplot(x=top_scores, y=top_features, palette=\"viridis\")\n",
        "plt.title(\"Top 15 Feature Importances - Tuned XGBoost\")\n",
        "plt.xlabel(\"Importance Score\")\n",
        "plt.ylabel(\"Feature\")\n",
        "plt.tight_layout()\n",
        "plt.show()\n",
        "\n",
        "# STEP 10: Save best model to Google Drive\n",
        "model_path = \"/content/drive/MyDrive/xgboost_tuned_model.pkl\"\n",
        "joblib.dump(best_model, model_path)\n",
        "print(f\"\\n✅ Tuned XGBoost model saved to: {model_path}\")"
      ]
    },
    {
      "cell_type": "markdown",
      "metadata": {
        "id": "lCNXBIzXOZYm"
      },
      "source": [
        "### 🚀 Tuned XGBoost Results Summary\n",
        "\n",
        "The Tuned XGBoost model, configured with a `scale_pos_weight` of approximately 7.55 to address class imbalance, exhibited the following performance:\n",
        "\n",
        "#### 🔹 Classification Report:\n",
        "\n",
        "- **Class 0 (`y=0`)**:\n",
        "  - Precision: **0.93**\n",
        "  - Recall: **0.68**\n",
        "  - F1-Score: **0.78**\n",
        "\n",
        "- **Class 1 (`y=1`)**:\n",
        "  - Precision: **0.20**\n",
        "  - Recall: **0.61**\n",
        "  - F1-Score: **0.30**\n",
        "\n",
        "- **Overall Accuracy**: **0.67**\n",
        "\n",
        "- **Macro Average**:\n",
        "  - Precision: **0.56**\n",
        "  - Recall: **0.64**\n",
        "  - F1-Score: **0.54**\n",
        "\n",
        "- **Weighted Average**:\n",
        "  - Precision: **0.84**\n",
        "  - Recall: **0.67**\n",
        "  - F1-Score: **0.73**\n",
        "\n",
        "#### 📊 Evaluation Metrics:\n",
        "\n",
        "| Metric   | Value    | Interpretation                                                                 |\n",
        "|----------|----------|--------------------------------------------------------------------------------|\n",
        "| AUC-PR   | 0.3038   | Indicates limited ability to distinguish between classes in imbalanced data.   |\n",
        "| Recall   | 0.6115   | Captures 61% of actual positives; room for improvement in identifying class 1. |\n",
        "| Precision| 0.2006   | Only 20% of predicted positives are correct; suggests many false positives.    |\n",
        "| F1-Score | 0.3021   | Harmonic mean of precision and recall; reflects overall performance on class 1.|\n",
        "| MCC      | 0.1936   | Moderate correlation between predicted and actual classes; affected by imbalance.|\n",
        "\n",
        "#### ✅ Model Saved:\n",
        "The tuned XGBoost model has been saved to Google Drive at: `xgboost_gpu_model.pkl`.\n",
        "\n",
        "---\n",
        "\n",
        "### 🔍 Conclusion:\n",
        "The model demonstrates a strong ability to identify positive cases (high recall for class 1) but at the expense of precision, leading to a notable number of false positives. This trade-off is common in imbalanced datasets, where the model becomes more sensitive to the minority class but less precise. To enhance performance, especially precision, consider:\n",
        "\n",
        "- **Threshold Tuning**: Adjust the decision threshold to find a better balance between precision and recall.\n",
        "- **Resampling Techniques**: Employ methods like SMOTE to balance the dataset.\n",
        "- **Alternative Algorithms**: Explore other models like LightGBM or CatBoost that might handle imbalance differently.\n",
        "- **Feature Engineering**: Investigate and engineer features that could provide better class separation.\n",
        "\n",
        "Implementing these strategies can help improve the model's precision without significantly compromising recall.\n"
      ]
    },
    {
      "cell_type": "code",
      "execution_count": null,
      "metadata": {
        "id": "XfUU-DPTiHtJ"
      },
      "outputs": [],
      "source": [
        "import pandas as pd\n",
        "from sklearn.utils import resample\n",
        "\n",
        "# Combine your features and target into a single DataFrame\n",
        "df=Z.copy()\n",
        "\n",
        "# Separate majority and minority classes\n",
        "majority_class = df[df['y'] == 0]\n",
        "minority_class = df[df['y'] == 1]\n",
        "\n",
        "# Downsample majority class\n",
        "majority_downsampled = resample(\n",
        "    majority_class,\n",
        "    replace=False,  # sample without replacement\n",
        "    n_samples=len(minority_class),  # match minority class count\n",
        "    random_state=42  # reproducible results\n",
        ")\n",
        "\n",
        "# Combine minority class with downsampled majority class\n",
        "df_downsampled = pd.concat([majority_downsampled, minority_class])\n",
        "\n",
        "# Shuffle the dataset\n",
        "df = df_downsampled.sample(frac=1, random_state=42).reset_index(drop=True)\n",
        "\n",
        "# Separate features and target\n",
        "X_downsampled = df_downsampled.drop('y', axis=1)\n",
        "y_downsampled = df_downsampled['y']\n"
      ]
    },
    {
      "cell_type": "code",
      "execution_count": null,
      "metadata": {
        "colab": {
          "base_uri": "https://localhost:8080/"
        },
        "id": "HvyAC_y8iO-Z",
        "outputId": "ed0f3610-60f0-48a0-9209-5970c83bafb8"
      },
      "outputs": [
        {
          "name": "stderr",
          "output_type": "stream",
          "text": [
            "/usr/local/lib/python3.11/dist-packages/xgboost/core.py:158: UserWarning: [16:58:32] WARNING: /workspace/src/common/error_msg.cc:27: The tree method `gpu_hist` is deprecated since 2.0.0. To use GPU training, set the `device` parameter to CUDA instead.\n",
            "\n",
            "    E.g. tree_method = \"hist\", device = \"cuda\"\n",
            "\n",
            "  warnings.warn(smsg, UserWarning)\n",
            "/usr/local/lib/python3.11/dist-packages/xgboost/core.py:158: UserWarning: [16:58:32] WARNING: /workspace/src/learner.cc:740: \n",
            "Parameters: { \"predictor\", \"use_label_encoder\" } are not used.\n",
            "\n",
            "  warnings.warn(smsg, UserWarning)\n"
          ]
        },
        {
          "name": "stdout",
          "output_type": "stream",
          "text": [
            "\n",
            "🔹 XGBoost Classification Report:\n",
            "              precision    recall  f1-score   support\n",
            "\n",
            "           0       0.66      0.76      0.71      1058\n",
            "           1       0.72      0.60      0.65      1058\n",
            "\n",
            "    accuracy                           0.68      2116\n",
            "   macro avg       0.69      0.68      0.68      2116\n",
            "weighted avg       0.69      0.68      0.68      2116\n",
            "\n",
            "\n",
            "📊 Evaluation Metrics:\n",
            "     AUC-PR    Recall  Precision  F1-Score       MCC\n",
            "0  0.740088  0.599244   0.716384  0.652599  0.366943\n",
            "\n",
            "✅ XGBoost model saved to Google Drive at: xgboost_gpu_model.pkl\n"
          ]
        },
        {
          "name": "stderr",
          "output_type": "stream",
          "text": [
            "/usr/local/lib/python3.11/dist-packages/xgboost/core.py:158: UserWarning: [16:58:32] WARNING: /workspace/src/common/error_msg.cc:27: The tree method `gpu_hist` is deprecated since 2.0.0. To use GPU training, set the `device` parameter to CUDA instead.\n",
            "\n",
            "    E.g. tree_method = \"hist\", device = \"cuda\"\n",
            "\n",
            "  warnings.warn(smsg, UserWarning)\n"
          ]
        }
      ],
      "source": [
        "Z=df.copy()\n",
        "X=Z.copy()\n",
        "# STEP 1: Separate Features and Target\n",
        "y = X[\"y\"]\n",
        "X = X.drop(columns=[\"y\"])\n",
        "\n",
        "# STEP 2: Train-Test Split\n",
        "X_train, X_test, y_train, y_test = train_test_split(\n",
        "    X, y, test_size=0.2, stratify=y, random_state=42\n",
        ")\n",
        "\n",
        "# STEP 3: SMOTE to balance training data\n",
        "smote = SMOTE(random_state=42)\n",
        "X_resampled, y_resampled = smote.fit_resample(X_train, y_train)\n",
        "\n",
        "# STEP 4: Define XGBoost model with GPU settings\n",
        "xgb_model = XGBClassifier(\n",
        "    tree_method='gpu_hist',\n",
        "    predictor='gpu_predictor',\n",
        "    use_label_encoder=False,\n",
        "    eval_metric='logloss',\n",
        "    random_state=42\n",
        ")\n",
        "\n",
        "# STEP 5: Train the model\n",
        "xgb_model.fit(X_resampled, y_resampled)\n",
        "\n",
        "# STEP 6: Predict and evaluate on test set\n",
        "y_pred_xgb = xgb_model.predict(X_test)\n",
        "y_prob_xgb = xgb_model.predict_proba(X_test)[:, 1]\n",
        "\n",
        "xgb_metrics = {\n",
        "    \"AUC-PR\": average_precision_score(y_test, y_prob_xgb),\n",
        "    \"Recall\": recall_score(y_test, y_pred_xgb),\n",
        "    \"Precision\": precision_score(y_test, y_pred_xgb),\n",
        "    \"F1-Score\": f1_score(y_test, y_pred_xgb),\n",
        "    \"MCC\": matthews_corrcoef(y_test, y_pred_xgb)\n",
        "}\n",
        "xgb_metrics_df = pd.DataFrame([xgb_metrics])\n",
        "\n",
        "print(\"\\n🔹 XGBoost Classification Report:\")\n",
        "print(classification_report(y_test, y_pred_xgb))\n",
        "print(\"\\n📊 Evaluation Metrics:\")\n",
        "print(xgb_metrics_df)\n",
        "\n",
        "# STEP 7: Save model to Google Drive\n",
        "joblib.dump(xgb_model, os.path.join(MODEL_DIR, \"xgboost_gpu_model.pkl\"))\n",
        "print(\"\\n✅ XGBoost model saved to Google Drive at: xgboost_gpu_model.pkl\")\n"
      ]
    },
    {
      "cell_type": "markdown",
      "metadata": {
        "id": "jVePYFM5i5A8"
      },
      "source": [
        "### 📊 XGBoost Model Summary (After Downsampling)\n",
        "\n",
        "The downsampled XGBoost model achieved:\n",
        "\n",
        "- **Accuracy**: 0.68  \n",
        "- **Class 1 (Positive Class)**:\n",
        "  - Precision: 0.72\n",
        "  - Recall: 0.60\n",
        "  - F1-Score: 0.65\n",
        "- **AUC-PR**: 0.74  \n",
        "- **MCC**: 0.37\n",
        "\n",
        "**Conclusion**:  \n",
        "Downsampling improved class balance, resulting in better detection of the minority class. The model shows a solid trade-off between precision and recall, with a good AUC-PR. Further tuning or feature engineering could help boost precision without sacrificing recall.\n"
      ]
    },
    {
      "cell_type": "code",
      "execution_count": null,
      "metadata": {
        "colab": {
          "background_save": true,
          "base_uri": "https://localhost:8080/"
        },
        "id": "Xlh7Tfx8jazp",
        "outputId": "e8447420-1e0b-41e1-c1fb-b2341b5dd9c4"
      },
      "outputs": [
        {
          "name": "stdout",
          "output_type": "stream",
          "text": [
            "scale_pos_weight: 1.0\n",
            "Fitting 5 folds for each of 32 candidates, totalling 160 fits\n"
          ]
        },
        {
          "name": "stderr",
          "output_type": "stream",
          "text": [
            "/usr/local/lib/python3.11/dist-packages/xgboost/core.py:158: UserWarning: [17:04:40] WARNING: /workspace/src/learner.cc:740: \n",
            "Parameters: { \"use_label_encoder\" } are not used.\n",
            "\n",
            "  warnings.warn(smsg, UserWarning)\n"
          ]
        },
        {
          "name": "stdout",
          "output_type": "stream",
          "text": [
            "\n",
            "🔹 Tuned XGBoost Classification Report:\n",
            "              precision    recall  f1-score   support\n",
            "\n",
            "           0       0.65      0.80      0.72      1058\n",
            "           1       0.74      0.58      0.65      1058\n",
            "\n",
            "    accuracy                           0.69      2116\n",
            "   macro avg       0.70      0.69      0.68      2116\n",
            "weighted avg       0.70      0.69      0.68      2116\n",
            "\n",
            "\n",
            "📊 Evaluation Metrics:\n",
            "AUC-PR: 0.7514932371608889\n",
            "Recall: 0.5775047258979206\n",
            "Precision: 0.7388149939540508\n",
            "F1-Score: 0.6482758620689655\n",
            "MCC: 0.3825761410028386\n"
          ]
        },
        {
          "name": "stderr",
          "output_type": "stream",
          "text": [
            "<ipython-input-24-99436aeadd09>:80: FutureWarning: \n",
            "\n",
            "Passing `palette` without assigning `hue` is deprecated and will be removed in v0.14.0. Assign the `y` variable to `hue` and set `legend=False` for the same effect.\n",
            "\n",
            "  sns.barplot(x=top_scores, y=top_features, palette=\"viridis\")\n"
          ]
        },
        {
          "data": {
            "image/png": "[encoded data removed]",
            "text/plain": [
              "<Figure size 1000x600 with 1 Axes>"
            ]
          },
          "metadata": {},
          "output_type": "display_data"
        },
        {
          "name": "stdout",
          "output_type": "stream",
          "text": [
            "\n",
            "✅ Tuned XGBoost model saved to: /content/drive/MyDrive/xgboost_tuned_model.pkl\n"
          ]
        }
      ],
      "source": [
        "from collections import Counter\n",
        "# STEP 0: Copy dataset from Z and separate features and target\n",
        "X = Z.copy()\n",
        "y = X[\"y\"]\n",
        "X = X.drop(columns=[\"y\"])\n",
        "\n",
        "# STEP 1: Train-test split\n",
        "X_train, X_test, y_train, y_test = train_test_split(\n",
        "    X, y, test_size=0.2, stratify=y, random_state=42\n",
        ")\n",
        "\n",
        "# STEP 2: Apply SMOTE\n",
        "smote = SMOTE(random_state=42)\n",
        "X_resampled, y_resampled = smote.fit_resample(X_train, y_train)\n",
        "\n",
        "# STEP 3: Compute scale_pos_weight from original training labels\n",
        "counter = Counter(y_train)\n",
        "scale_pos_weight = counter[0] / counter[1]\n",
        "print(\"scale_pos_weight:\", scale_pos_weight)\n",
        "\n",
        "# STEP 4: Set up hyperparameter grid for tuning\n",
        "param_grid = {\n",
        "    'n_estimators': [100, 200],\n",
        "    'max_depth': [6, 10],\n",
        "    'learning_rate': [0.01, 0.1],\n",
        "    'subsample': [0.8, 1.0],\n",
        "    'colsample_bytree': [0.8, 1.0],\n",
        "    'scale_pos_weight': [scale_pos_weight]\n",
        "}\n",
        "\n",
        "# STEP 5: Define base model using GPU\n",
        "xgb = XGBClassifier(\n",
        "    tree_method='hist',  # Use 'hist' for GPU optimization in XGBoost version >= 2.0\n",
        "    device='cuda',  # Specify to use GPU\n",
        "    eval_metric='aucpr',  # Focus on PR AUC for evaluation\n",
        "    use_label_encoder=False,  # Remove deprecated label encoder\n",
        "    random_state=42,\n",
        "    n_jobs=-1  # Parallelize across all CPU cores\n",
        ")\n",
        "\n",
        "# STEP 6: Perform GridSearchCV with 5-fold Stratified CV\n",
        "cv = StratifiedKFold(n_splits=5, shuffle=True, random_state=42)\n",
        "\n",
        "grid_search = GridSearchCV(\n",
        "    estimator=xgb,\n",
        "    param_grid=param_grid,\n",
        "    scoring='f1',\n",
        "    cv=cv,\n",
        "    n_jobs=-1,\n",
        "    verbose=1\n",
        ")\n",
        "\n",
        "grid_search.fit(X_resampled, y_resampled)\n",
        "\n",
        "# STEP 7: Get the best model\n",
        "best_model = grid_search.best_estimator_\n",
        "\n",
        "# STEP 8: Predict and evaluate on test set\n",
        "y_pred = best_model.predict(X_test)\n",
        "y_prob = best_model.predict_proba(X_test)[:, 1]\n",
        "\n",
        "print(\"\\n🔹 Tuned XGBoost Classification Report:\")\n",
        "print(classification_report(y_test, y_pred))\n",
        "\n",
        "print(\"\\n📊 Evaluation Metrics:\")\n",
        "print(\"AUC-PR:\", average_precision_score(y_test, y_prob))\n",
        "print(\"Recall:\", recall_score(y_test, y_pred))\n",
        "print(\"Precision:\", precision_score(y_test, y_pred))\n",
        "print(\"F1-Score:\", f1_score(y_test, y_pred))\n",
        "print(\"MCC:\", matthews_corrcoef(y_test, y_pred))\n",
        "\n",
        "# STEP 9: Plot Top 15 Feature Importances\n",
        "plt.figure(figsize=(10, 6))\n",
        "importance_scores = best_model.feature_importances_\n",
        "sorted_idx = np.argsort(importance_scores)[::-1]\n",
        "top_n = 15\n",
        "top_features = X.columns[sorted_idx][:top_n]\n",
        "top_scores = importance_scores[sorted_idx][:top_n]\n",
        "\n",
        "sns.barplot(x=top_scores, y=top_features, palette=\"viridis\")\n",
        "plt.title(\"Top 15 Feature Importances - Tuned XGBoost\")\n",
        "plt.xlabel(\"Importance Score\")\n",
        "plt.ylabel(\"Feature\")\n",
        "plt.tight_layout()\n",
        "plt.show()\n",
        "\n",
        "# STEP 10: Save best model to Google Drive\n",
        "model_path = \"/content/drive/MyDrive/xgboost_tuned_model.pkl\"\n",
        "joblib.dump(best_model, model_path)\n",
        "print(f\"\\n✅ Tuned XGBoost model saved to: {model_path}\")"
      ]
    },
    {
      "cell_type": "markdown",
      "source": [
        "### 📊 Tuned XGBoost Results Summary\n",
        "\n",
        "After hyperparameter tuning and evaluation, the XGBoost model achieved the following results:\n",
        "\n",
        "- **Accuracy**: 0.69  \n",
        "- **Class 1 (Positive Class)**:\n",
        "  - Precision: 0.74\n",
        "  - Recall: 0.58\n",
        "  - F1-Score: 0.65\n",
        "- **AUC-PR**: 0.75  \n",
        "- **MCC**: 0.38\n",
        "\n",
        "**Conclusion**:  \n",
        "The tuned model shows a solid balance between precision and recall for the minority class. While accuracy is moderate, the high AUC-PR indicates strong overall performance on imbalanced data. The MCC also reflects a meaningful correlation between predicted and actual labels. Further gains may be possible through threshold tuning or additional feature engineering.\n"
      ],
      "metadata": {
        "id": "s4DLYOv-oed9"
      }
    }
  ],
  "metadata": {
    "accelerator": "GPU",
    "colab": {
      "gpuType": "T4",
      "provenance": []
    },
    "kernelspec": {
      "display_name": "Python 3",
      "name": "python3"
    },
    "language_info": {
      "name": "python"
    }
  },
  "nbformat": 4,
  "nbformat_minor": 0
}